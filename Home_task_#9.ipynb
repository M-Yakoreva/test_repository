{
 "cells": [
  {
   "cell_type": "markdown",
   "metadata": {},
   "source": [
    "### Задание 1\n",
    "Создайте numpy array с элементами от числа N до 0 (например, для N = 10 это будет array([9, 8, 7, 6, 5, 4, 3, 2, 1, 0]))."
   ]
  },
  {
   "cell_type": "code",
   "execution_count": 2,
   "metadata": {},
   "outputs": [],
   "source": [
    "import numpy as np\n"
   ]
  },
  {
   "cell_type": "code",
   "execution_count": 3,
   "metadata": {},
   "outputs": [
    {
     "name": "stdout",
     "output_type": "stream",
     "text": [
      "введите целое число > 0: 9\n",
      "[9 8 7 6 5 4 3 2 1 0]\n"
     ]
    }
   ],
   "source": [
    "n = int(input(\"введите целое число > 0: \"))\n",
    "a = np.arange(n, -1, -1)\n",
    "print(a)"
   ]
  },
  {
   "cell_type": "markdown",
   "metadata": {},
   "source": [
    "### Задание 2\n",
    "Создайте диагональную матрицу с элементами от N до 0. Посчитайте сумму ее значений на диагонали."
   ]
  },
  {
   "cell_type": "code",
   "execution_count": 4,
   "metadata": {},
   "outputs": [
    {
     "name": "stdout",
     "output_type": "stream",
     "text": [
      "введите целое число > 0: 5\n",
      "[[5 0 0 0 0 0]\n",
      " [0 4 0 0 0 0]\n",
      " [0 0 3 0 0 0]\n",
      " [0 0 0 2 0 0]\n",
      " [0 0 0 0 1 0]\n",
      " [0 0 0 0 0 0]] \n",
      " Значения главной диагонали:  [5 4 3 2 1 0] \n",
      " Cумма значений главной диагонали:  15\n"
     ]
    }
   ],
   "source": [
    "n = int(input(\"введите целое число > 0: \"))\n",
    "a = np.diag(np.arange(n, -1, -1), k=0)\n",
    "elem_= np.diagonal(a)\n",
    "sum_ = np.trace(a)\n",
    "print(a,'\\n', \"Значения главной диагонали: \", (elem_), '\\n', \"Cумма значений главной диагонали: \", sum_)"
   ]
  },
  {
   "cell_type": "markdown",
   "metadata": {},
   "source": [
    "### Задание 3\n",
    "Решите систему уравнений:\n",
    "###### 4x + 2y + z = 4\n",
    "###### x + 3y = 12\n",
    "###### 5y + 4z = -3"
   ]
  },
  {
   "cell_type": "code",
   "execution_count": 5,
   "metadata": {},
   "outputs": [
    {
     "data": {
      "text/plain": [
       "array([ 0.46666667,  3.84444444, -5.55555556])"
      ]
     },
     "execution_count": 5,
     "metadata": {},
     "output_type": "execute_result"
    }
   ],
   "source": [
    "M1 = np.array([[4., 2., 1.], [1., 3., 0.],[0., 5., 4.]]) # Матрица (левая часть системы)\n",
    "v1 = np.array([4., 12., -3.]) # Вектор (правая часть системы)\n",
    "np.linalg.solve(M1, v1)"
   ]
  },
  {
   "cell_type": "markdown",
   "metadata": {},
   "source": [
    "### Задание 4\n",
    "Имеется матрица покупок в интернет-магазине. Столбец А - ID пользователя. Остальные столбцы - количество покупок категорий товаров этим пользователем. Матрица в виде numpy array \n",
    "##### users_stats = np.array(\n",
    "    [\n",
    "        [2, 1, 0, 0, 0, 0],\n",
    "        [1, 1, 2, 1, 0, 0],\n",
    "        [2, 0, 1, 0, 0, 0],\n",
    "        [1, 1, 2, 1, 0, 1],\n",
    "        [0, 0, 1, 2, 0, 0],\n",
    "        [0, 0, 0, 0, 0, 5],\n",
    "        [1, 0, 0, 0, 0, 0],\n",
    "        [0, 1, 1, 0, 0, 0],\n",
    "        [0, 0, 0, 1, 1, 3],\n",
    "        [1, 0, 0, 2, 1, 4]\n",
    "    ], \n",
    "    np.int32\n",
    ")\n",
    "##### На сайт заходит очередной посетитель, о покупках которого известно следующее:\n",
    "##### next_user_stats = np.array([0, 1, 2, 0, 0, 0])\n",
    "Найдите самого похожего пользователя. Т. е. посчитайте косинусное сходство между этим пользователем и всеми пользователями из массива user_stats"
   ]
  },
  {
   "cell_type": "code",
   "execution_count": 6,
   "metadata": {},
   "outputs": [
    {
     "name": "stdout",
     "output_type": "stream",
     "text": [
      "0.19999999999999996\n",
      "0.8451542547285165\n",
      "0.3999999999999999\n",
      "0.7905694150420948\n",
      "0.3999999999999999\n",
      "0.0\n",
      "0.0\n",
      "0.9486832980505138\n",
      "0.0\n",
      "0.0\n"
     ]
    }
   ],
   "source": [
    "users_stats = np.array(\n",
    "        [\n",
    "           [2, 1, 0, 0, 0, 0],\n",
    "           [1, 1, 2, 1, 0, 0],\n",
    "           [2, 0, 1, 0, 0, 0],\n",
    "           [1, 1, 2, 1, 0, 1],\n",
    "           [0, 0, 1, 2, 0, 0],\n",
    "           [0, 0, 0, 0, 0, 5],\n",
    "           [1, 0, 0, 0, 0, 0],\n",
    "           [0, 1, 1, 0, 0, 0],\n",
    "           [0, 0, 0, 1, 1, 3],\n",
    "           [1, 0, 0, 2, 1, 4],\n",
    "       ])\n",
    "\n",
    "next_user_stats   = np.array([0, 1, 2, 0, 0, 0])\n",
    "length_V = np.linalg.norm(next_user_stats) \n",
    "def cousine(users_stats, next_user_stats):\n",
    "  for i in range(len(users_stats)):\n",
    "    length_V1 = np.linalg.norm(users_stats[i]) \n",
    "    print((np.dot(users_stats[i], next_user_stats))/(length_V1*length_V))\n",
    "  return\n",
    "\n",
    "cousine(users_stats, next_user_stats)"
   ]
  },
  {
   "cell_type": "code",
   "execution_count": null,
   "metadata": {},
   "outputs": [],
   "source": []
  }
 ],
 "metadata": {
  "kernelspec": {
   "display_name": "Python 3",
   "language": "python",
   "name": "python3"
  },
  "language_info": {
   "codemirror_mode": {
    "name": "ipython",
    "version": 3
   },
   "file_extension": ".py",
   "mimetype": "text/x-python",
   "name": "python",
   "nbconvert_exporter": "python",
   "pygments_lexer": "ipython3",
   "version": "3.8.5"
  }
 },
 "nbformat": 4,
 "nbformat_minor": 4
}
