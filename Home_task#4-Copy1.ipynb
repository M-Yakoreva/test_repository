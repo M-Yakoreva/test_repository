{
 "cells": [
  {
   "cell_type": "markdown",
   "metadata": {},
   "source": [
    "\n",
    "# Домашнее задание к лекции \"Функции\""
   ]
  },
  {
   "cell_type": "code",
   "execution_count": 4,
   "metadata": {},
   "outputs": [],
   "source": [
    "documents = [\n",
    " {'type': 'passport', 'number': '2207 876234', 'name': 'Василий Гупкин'},\n",
    " {'type': 'invoice', 'number': '11-2', 'name': 'Геннадий Покемонов'},\n",
    " {'type': 'insurance', 'number': '10006', 'name': 'Аристарх Павлов'}\n",
    "]\n",
    "\n",
    "directories = {\n",
    " '1': ['2207 876234', '11-2'],\n",
    " '2': ['10006'],\n",
    " '3': []\n",
    "}"
   ]
  },
  {
   "cell_type": "markdown",
   "metadata": {},
   "source": [
    "### Пункт 1. Пользователь по команде \"p\" может узнать владельца документа по его номеру"
   ]
  },
  {
   "cell_type": "code",
   "execution_count": 5,
   "metadata": {},
   "outputs": [
    {
     "name": "stdout",
     "output_type": "stream",
     "text": [
      "Введите номер документа: 11-2\n",
      "Владелец документа:  Геннадий Покемонов\n"
     ]
    }
   ],
   "source": [
    "def find_owner(doc_func):\n",
    "    entered_name = input('Введите номер документа: ') \n",
    "    for num_doc in documents:\n",
    "        if entered_name == num_doc['number']:\n",
    "            print ('Владелец документа: ', num_doc['name'])\n",
    "            return\n",
    "    print('Владелец не найден в базе')\n",
    "    return\n",
    "find_owner(documents)\n",
    "  "
   ]
  },
  {
   "cell_type": "markdown",
   "metadata": {},
   "source": [
    "### Пункт 2. Пользователь по команде \"s\" может по номеру документа узнать на какой полке он хранится"
   ]
  },
  {
   "cell_type": "code",
   "execution_count": 6,
   "metadata": {},
   "outputs": [
    {
     "name": "stdout",
     "output_type": "stream",
     "text": [
      "Введите номер документа: 10006\n",
      "Документ хранится на полке:  2\n"
     ]
    }
   ],
   "source": [
    "def find_shelf(direct_func):\n",
    "    enter_doc = input('Введите номер документа: ')\n",
    "    for num_shelf, num in directories.items():\n",
    "        if enter_doc in num:\n",
    "            print ('Документ хранится на полке: ', num_shelf )\n",
    "            return\n",
    "    print ('Документ не найден в базе')\n",
    "    return\n",
    "find_shelf(directories)"
   ]
  },
  {
   "cell_type": "markdown",
   "metadata": {},
   "source": [
    "### Пункт 3. Пользователь по команде \"l\" может увидеть полную информацию по всем документам"
   ]
  },
  {
   "cell_type": "code",
   "execution_count": 7,
   "metadata": {
    "scrolled": true
   },
   "outputs": [
    {
     "name": "stdout",
     "output_type": "stream",
     "text": [
      "№: 2207 876234 ,тип: passport ,владелец: Василий Гупкин , полка хранения:  1\n",
      "№: 11-2 ,тип: invoice ,владелец: Геннадий Покемонов , полка хранения:  1\n",
      "№: 10006 ,тип: insurance ,владелец: Аристарх Павлов , полка хранения:  2\n"
     ]
    }
   ],
   "source": [
    "def show_all(doc_func, direct_func):\n",
    "    for owner_doc in documents:\n",
    "        def show_all_doc():\n",
    "            for all_shelf, doc_numb in directories.items():\n",
    "                if owner_doc['number'] in doc_numb:\n",
    "                     return f'полка хранения:  {all_shelf}'\n",
    "        print('№:', owner_doc['number'],',' 'тип:', owner_doc['type'], ',' 'владелец:', owner_doc['name'],',', show_all_doc())\n",
    "show_all(documents, directories)            "
   ]
  },
  {
   "cell_type": "markdown",
   "metadata": {},
   "source": [
    "### Пункт 4. Пользователь по команде \"ads\" может добавить новую полку"
   ]
  },
  {
   "cell_type": "code",
   "execution_count": 8,
   "metadata": {},
   "outputs": [
    {
     "name": "stdout",
     "output_type": "stream",
     "text": [
      "Введите номер полки: 5\n",
      "Полка добавлена. Текущий перечень полок:  1 2 3 5\n"
     ]
    }
   ],
   "source": [
    "def add_shelf(direct_func):\n",
    "    user_shelf = input('Введите номер полки: ')\n",
    "    if user_shelf not in directories:\n",
    "        directories[user_shelf] = []\n",
    "        print ('Полка добавлена. Текущий перечень полок: ', *directories.keys())\n",
    "        return\n",
    "    print ('Такая полка уже существует. Текущий перечень полок: ', *directories.keys())\n",
    "    return\n",
    "add_shelf(directories)"
   ]
  },
  {
   "cell_type": "markdown",
   "metadata": {},
   "source": [
    "### Пункт 5. Пользователь по команде \"ds\" может удалить существующую полку из данных (только если она пустая)"
   ]
  },
  {
   "cell_type": "code",
   "execution_count": 9,
   "metadata": {},
   "outputs": [
    {
     "name": "stdout",
     "output_type": "stream",
     "text": [
      "введите номер полки: 3\n",
      "Полка удалена. Текущий перечень полок:  1 2 5\n"
     ]
    }
   ],
   "source": [
    "def delete_shelf(directories):\n",
    "    user_shelf_new = input('введите номер полки: ')\n",
    "    if user_shelf_new in directories and len(directories[user_shelf_new]) == 0:\n",
    "        directories.pop(user_shelf_new, None) \n",
    "        print('Полка удалена. Текущий перечень полок: ', *directories.keys())\n",
    "        return\n",
    "    elif user_shelf_new in directories and len(directories[user_shelf_new]) != 0:\n",
    "        print('На полке есть документа, удалите их перед удалением полки. Текущий перечень полок: ', *directories.keys())\n",
    "        return\n",
    "    elif user_shelf_new not in directories:\n",
    "        print ('Такой полки не существует. Текущий перечень полок: ', *directories.keys())\n",
    "        return\n",
    "delete_shelf(directories)"
   ]
  },
  {
   "cell_type": "code",
   "execution_count": null,
   "metadata": {},
   "outputs": [
    {
     "name": "stdout",
     "output_type": "stream",
     "text": [
      "Введите команду: p\n",
      "Введите номер документа: 10006\n",
      "Владелец документа:  Аристарх Павлов\n",
      "None\n",
      "Введите команду: s\n",
      "Введите номер документа: 11-2\n",
      "Документ хранится на полке:  1\n",
      "None\n",
      "Введите команду: l\n",
      "№: 2207 876234 ,тип: passport ,владелец: Василий Гупкин , полка хранения:  1\n",
      "№: 11-2 ,тип: invoice ,владелец: Геннадий Покемонов , полка хранения:  1\n",
      "№: 10006 ,тип: insurance ,владелец: Аристарх Павлов , полка хранения:  2\n",
      "None\n",
      "Введите команду: ads\n",
      "Введите номер полки: 4\n",
      "Полка добавлена. Текущий перечень полок:  1 2 5 4\n",
      "None\n",
      "Введите команду: ds\n",
      "введите номер полки: 6\n",
      "Такой полки не существует. Текущий перечень полок:  1 2 5 4\n",
      "None\n"
     ]
    }
   ],
   "source": [
    "def main(doc_func, direct_func):\n",
    "    while True:\n",
    "        user_input = input('Введите команду: ')\n",
    "        if user_input == 'p':\n",
    "            print(find_owner(documents))\n",
    "        elif user_input == 's':\n",
    "            print(find_shelf(directories))\n",
    "        elif user_input == 'l':\n",
    "            print(show_all(documents, directories))\n",
    "        elif user_input == 'ads':\n",
    "            print(add_shelf(directories))\n",
    "        elif user_input == 'ds':\n",
    "            print(delete_shelf(directories))    \n",
    "        elif user_input == 'quit':\n",
    "            print('BYE!')\n",
    "            break\n",
    "main(documents, directories)            "
   ]
  },
  {
   "cell_type": "code",
   "execution_count": null,
   "metadata": {},
   "outputs": [],
   "source": []
  }
 ],
 "metadata": {
  "kernelspec": {
   "display_name": "Python 3",
   "language": "python",
   "name": "python3"
  },
  "language_info": {
   "codemirror_mode": {
    "name": "ipython",
    "version": 3
   },
   "file_extension": ".py",
   "mimetype": "text/x-python",
   "name": "python",
   "nbconvert_exporter": "python",
   "pygments_lexer": "ipython3",
   "version": "3.8.5"
  }
 },
 "nbformat": 4,
 "nbformat_minor": 4
}
