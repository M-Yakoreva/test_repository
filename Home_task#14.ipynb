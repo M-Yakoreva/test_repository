{
 "cells": [
  {
   "cell_type": "code",
   "execution_count": 83,
   "metadata": {},
   "outputs": [],
   "source": [
    "import pandas as pd\n",
    "import matplotlib.pyplot as plt\n",
    "import numpy as np\n"
   ]
  },
  {
   "cell_type": "code",
   "execution_count": 84,
   "metadata": {},
   "outputs": [
    {
     "data": {
      "text/html": [
       "<div>\n",
       "<style scoped>\n",
       "    .dataframe tbody tr th:only-of-type {\n",
       "        vertical-align: middle;\n",
       "    }\n",
       "\n",
       "    .dataframe tbody tr th {\n",
       "        vertical-align: top;\n",
       "    }\n",
       "\n",
       "    .dataframe thead th {\n",
       "        text-align: right;\n",
       "    }\n",
       "</style>\n",
       "<table border=\"1\" class=\"dataframe\">\n",
       "  <thead>\n",
       "    <tr style=\"text-align: right;\">\n",
       "      <th></th>\n",
       "      <th>Country</th>\n",
       "      <th>Region</th>\n",
       "      <th>Happiness Rank</th>\n",
       "      <th>Happiness Score</th>\n",
       "      <th>Lower Confidence Interval</th>\n",
       "      <th>Upper Confidence Interval</th>\n",
       "      <th>Economy (GDP per Capita)</th>\n",
       "      <th>Family</th>\n",
       "      <th>Health (Life Expectancy)</th>\n",
       "      <th>Freedom</th>\n",
       "      <th>Trust (Government Corruption)</th>\n",
       "      <th>Generosity</th>\n",
       "      <th>Dystopia Residual</th>\n",
       "    </tr>\n",
       "  </thead>\n",
       "  <tbody>\n",
       "    <tr>\n",
       "      <th>0</th>\n",
       "      <td>Denmark</td>\n",
       "      <td>Western Europe</td>\n",
       "      <td>1</td>\n",
       "      <td>7.526</td>\n",
       "      <td>7.460</td>\n",
       "      <td>7.592</td>\n",
       "      <td>1.44178</td>\n",
       "      <td>1.16374</td>\n",
       "      <td>0.79504</td>\n",
       "      <td>0.57941</td>\n",
       "      <td>0.44453</td>\n",
       "      <td>0.36171</td>\n",
       "      <td>2.73939</td>\n",
       "    </tr>\n",
       "    <tr>\n",
       "      <th>1</th>\n",
       "      <td>Switzerland</td>\n",
       "      <td>Western Europe</td>\n",
       "      <td>2</td>\n",
       "      <td>7.509</td>\n",
       "      <td>7.428</td>\n",
       "      <td>7.590</td>\n",
       "      <td>1.52733</td>\n",
       "      <td>1.14524</td>\n",
       "      <td>0.86303</td>\n",
       "      <td>0.58557</td>\n",
       "      <td>0.41203</td>\n",
       "      <td>0.28083</td>\n",
       "      <td>2.69463</td>\n",
       "    </tr>\n",
       "    <tr>\n",
       "      <th>2</th>\n",
       "      <td>Iceland</td>\n",
       "      <td>Western Europe</td>\n",
       "      <td>3</td>\n",
       "      <td>7.501</td>\n",
       "      <td>7.333</td>\n",
       "      <td>7.669</td>\n",
       "      <td>1.42666</td>\n",
       "      <td>1.18326</td>\n",
       "      <td>0.86733</td>\n",
       "      <td>0.56624</td>\n",
       "      <td>0.14975</td>\n",
       "      <td>0.47678</td>\n",
       "      <td>2.83137</td>\n",
       "    </tr>\n",
       "    <tr>\n",
       "      <th>3</th>\n",
       "      <td>Norway</td>\n",
       "      <td>Western Europe</td>\n",
       "      <td>4</td>\n",
       "      <td>7.498</td>\n",
       "      <td>7.421</td>\n",
       "      <td>7.575</td>\n",
       "      <td>1.57744</td>\n",
       "      <td>1.12690</td>\n",
       "      <td>0.79579</td>\n",
       "      <td>0.59609</td>\n",
       "      <td>0.35776</td>\n",
       "      <td>0.37895</td>\n",
       "      <td>2.66465</td>\n",
       "    </tr>\n",
       "    <tr>\n",
       "      <th>4</th>\n",
       "      <td>Finland</td>\n",
       "      <td>Western Europe</td>\n",
       "      <td>5</td>\n",
       "      <td>7.413</td>\n",
       "      <td>7.351</td>\n",
       "      <td>7.475</td>\n",
       "      <td>1.40598</td>\n",
       "      <td>1.13464</td>\n",
       "      <td>0.81091</td>\n",
       "      <td>0.57104</td>\n",
       "      <td>0.41004</td>\n",
       "      <td>0.25492</td>\n",
       "      <td>2.82596</td>\n",
       "    </tr>\n",
       "  </tbody>\n",
       "</table>\n",
       "</div>"
      ],
      "text/plain": [
       "       Country          Region  Happiness Rank  Happiness Score  \\\n",
       "0      Denmark  Western Europe               1            7.526   \n",
       "1  Switzerland  Western Europe               2            7.509   \n",
       "2      Iceland  Western Europe               3            7.501   \n",
       "3       Norway  Western Europe               4            7.498   \n",
       "4      Finland  Western Europe               5            7.413   \n",
       "\n",
       "   Lower Confidence Interval  Upper Confidence Interval  \\\n",
       "0                      7.460                      7.592   \n",
       "1                      7.428                      7.590   \n",
       "2                      7.333                      7.669   \n",
       "3                      7.421                      7.575   \n",
       "4                      7.351                      7.475   \n",
       "\n",
       "   Economy (GDP per Capita)   Family  Health (Life Expectancy)  Freedom  \\\n",
       "0                   1.44178  1.16374                   0.79504  0.57941   \n",
       "1                   1.52733  1.14524                   0.86303  0.58557   \n",
       "2                   1.42666  1.18326                   0.86733  0.56624   \n",
       "3                   1.57744  1.12690                   0.79579  0.59609   \n",
       "4                   1.40598  1.13464                   0.81091  0.57104   \n",
       "\n",
       "   Trust (Government Corruption)  Generosity  Dystopia Residual  \n",
       "0                        0.44453     0.36171            2.73939  \n",
       "1                        0.41203     0.28083            2.69463  \n",
       "2                        0.14975     0.47678            2.83137  \n",
       "3                        0.35776     0.37895            2.66465  \n",
       "4                        0.41004     0.25492            2.82596  "
      ]
     },
     "execution_count": 84,
     "metadata": {},
     "output_type": "execute_result"
    }
   ],
   "source": [
    "df = pd.read_csv('2016.csv', na_values = '?')\n",
    "df.head()"
   ]
  },
  {
   "cell_type": "code",
   "execution_count": 85,
   "metadata": {},
   "outputs": [
    {
     "data": {
      "text/html": [
       "<div>\n",
       "<style scoped>\n",
       "    .dataframe tbody tr th:only-of-type {\n",
       "        vertical-align: middle;\n",
       "    }\n",
       "\n",
       "    .dataframe tbody tr th {\n",
       "        vertical-align: top;\n",
       "    }\n",
       "\n",
       "    .dataframe thead th {\n",
       "        text-align: right;\n",
       "    }\n",
       "</style>\n",
       "<table border=\"1\" class=\"dataframe\">\n",
       "  <thead>\n",
       "    <tr style=\"text-align: right;\">\n",
       "      <th></th>\n",
       "      <th>Happiness Rank</th>\n",
       "      <th>Happiness Score</th>\n",
       "      <th>Economy (GDP per Capita)</th>\n",
       "      <th>Family</th>\n",
       "      <th>Health (Life Expectancy)</th>\n",
       "      <th>Freedom</th>\n",
       "      <th>Trust (Government Corruption)</th>\n",
       "    </tr>\n",
       "    <tr>\n",
       "      <th>Country</th>\n",
       "      <th></th>\n",
       "      <th></th>\n",
       "      <th></th>\n",
       "      <th></th>\n",
       "      <th></th>\n",
       "      <th></th>\n",
       "      <th></th>\n",
       "    </tr>\n",
       "  </thead>\n",
       "  <tbody>\n",
       "    <tr>\n",
       "      <th>Afghanistan</th>\n",
       "      <td>154</td>\n",
       "      <td>3.360</td>\n",
       "      <td>0.38227</td>\n",
       "      <td>0.11037</td>\n",
       "      <td>0.17344</td>\n",
       "      <td>0.16430</td>\n",
       "      <td>0.07112</td>\n",
       "    </tr>\n",
       "    <tr>\n",
       "      <th>Albania</th>\n",
       "      <td>109</td>\n",
       "      <td>4.655</td>\n",
       "      <td>0.95530</td>\n",
       "      <td>0.50163</td>\n",
       "      <td>0.73007</td>\n",
       "      <td>0.31866</td>\n",
       "      <td>0.05301</td>\n",
       "    </tr>\n",
       "    <tr>\n",
       "      <th>Algeria</th>\n",
       "      <td>38</td>\n",
       "      <td>6.355</td>\n",
       "      <td>1.05266</td>\n",
       "      <td>0.83309</td>\n",
       "      <td>0.61804</td>\n",
       "      <td>0.21006</td>\n",
       "      <td>0.16157</td>\n",
       "    </tr>\n",
       "    <tr>\n",
       "      <th>Angola</th>\n",
       "      <td>141</td>\n",
       "      <td>3.866</td>\n",
       "      <td>0.84731</td>\n",
       "      <td>0.66366</td>\n",
       "      <td>0.04991</td>\n",
       "      <td>0.00589</td>\n",
       "      <td>0.08434</td>\n",
       "    </tr>\n",
       "    <tr>\n",
       "      <th>Argentina</th>\n",
       "      <td>26</td>\n",
       "      <td>6.650</td>\n",
       "      <td>1.15137</td>\n",
       "      <td>1.06612</td>\n",
       "      <td>0.69711</td>\n",
       "      <td>0.42284</td>\n",
       "      <td>0.07296</td>\n",
       "    </tr>\n",
       "    <tr>\n",
       "      <th>...</th>\n",
       "      <td>...</td>\n",
       "      <td>...</td>\n",
       "      <td>...</td>\n",
       "      <td>...</td>\n",
       "      <td>...</td>\n",
       "      <td>...</td>\n",
       "      <td>...</td>\n",
       "    </tr>\n",
       "    <tr>\n",
       "      <th>Venezuela</th>\n",
       "      <td>44</td>\n",
       "      <td>6.084</td>\n",
       "      <td>1.13367</td>\n",
       "      <td>1.03302</td>\n",
       "      <td>0.61904</td>\n",
       "      <td>0.19847</td>\n",
       "      <td>0.08304</td>\n",
       "    </tr>\n",
       "    <tr>\n",
       "      <th>Vietnam</th>\n",
       "      <td>96</td>\n",
       "      <td>5.061</td>\n",
       "      <td>0.74037</td>\n",
       "      <td>0.79117</td>\n",
       "      <td>0.66157</td>\n",
       "      <td>0.55954</td>\n",
       "      <td>0.11556</td>\n",
       "    </tr>\n",
       "    <tr>\n",
       "      <th>Yemen</th>\n",
       "      <td>147</td>\n",
       "      <td>3.724</td>\n",
       "      <td>0.57939</td>\n",
       "      <td>0.47493</td>\n",
       "      <td>0.31048</td>\n",
       "      <td>0.22870</td>\n",
       "      <td>0.05892</td>\n",
       "    </tr>\n",
       "    <tr>\n",
       "      <th>Zambia</th>\n",
       "      <td>106</td>\n",
       "      <td>4.795</td>\n",
       "      <td>0.61202</td>\n",
       "      <td>0.63760</td>\n",
       "      <td>0.23573</td>\n",
       "      <td>0.42662</td>\n",
       "      <td>0.11479</td>\n",
       "    </tr>\n",
       "    <tr>\n",
       "      <th>Zimbabwe</th>\n",
       "      <td>131</td>\n",
       "      <td>4.193</td>\n",
       "      <td>0.35041</td>\n",
       "      <td>0.71478</td>\n",
       "      <td>0.15950</td>\n",
       "      <td>0.25429</td>\n",
       "      <td>0.08582</td>\n",
       "    </tr>\n",
       "  </tbody>\n",
       "</table>\n",
       "<p>157 rows × 7 columns</p>\n",
       "</div>"
      ],
      "text/plain": [
       "             Happiness Rank  Happiness Score  Economy (GDP per Capita)  \\\n",
       "Country                                                                  \n",
       "Afghanistan             154            3.360                   0.38227   \n",
       "Albania                 109            4.655                   0.95530   \n",
       "Algeria                  38            6.355                   1.05266   \n",
       "Angola                  141            3.866                   0.84731   \n",
       "Argentina                26            6.650                   1.15137   \n",
       "...                     ...              ...                       ...   \n",
       "Venezuela                44            6.084                   1.13367   \n",
       "Vietnam                  96            5.061                   0.74037   \n",
       "Yemen                   147            3.724                   0.57939   \n",
       "Zambia                  106            4.795                   0.61202   \n",
       "Zimbabwe                131            4.193                   0.35041   \n",
       "\n",
       "              Family  Health (Life Expectancy)  Freedom  \\\n",
       "Country                                                   \n",
       "Afghanistan  0.11037                   0.17344  0.16430   \n",
       "Albania      0.50163                   0.73007  0.31866   \n",
       "Algeria      0.83309                   0.61804  0.21006   \n",
       "Angola       0.66366                   0.04991  0.00589   \n",
       "Argentina    1.06612                   0.69711  0.42284   \n",
       "...              ...                       ...      ...   \n",
       "Venezuela    1.03302                   0.61904  0.19847   \n",
       "Vietnam      0.79117                   0.66157  0.55954   \n",
       "Yemen        0.47493                   0.31048  0.22870   \n",
       "Zambia       0.63760                   0.23573  0.42662   \n",
       "Zimbabwe     0.71478                   0.15950  0.25429   \n",
       "\n",
       "             Trust (Government Corruption)  \n",
       "Country                                     \n",
       "Afghanistan                        0.07112  \n",
       "Albania                            0.05301  \n",
       "Algeria                            0.16157  \n",
       "Angola                             0.08434  \n",
       "Argentina                          0.07296  \n",
       "...                                    ...  \n",
       "Venezuela                          0.08304  \n",
       "Vietnam                            0.11556  \n",
       "Yemen                              0.05892  \n",
       "Zambia                             0.11479  \n",
       "Zimbabwe                           0.08582  \n",
       "\n",
       "[157 rows x 7 columns]"
      ]
     },
     "execution_count": 85,
     "metadata": {},
     "output_type": "execute_result"
    }
   ],
   "source": [
    "dynamics_by_country = df[['Happiness Rank', 'Happiness Score', 'Economy (GDP per Capita)', 'Family', 'Health (Life Expectancy)', 'Freedom', 'Trust (Government Corruption)','Country']] \\\n",
    "    .groupby('Country').mean()\n",
    "dynamics_by_country"
   ]
  },
  {
   "cell_type": "code",
   "execution_count": 86,
   "metadata": {},
   "outputs": [
    {
     "data": {
      "text/html": [
       "<div>\n",
       "<style scoped>\n",
       "    .dataframe tbody tr th:only-of-type {\n",
       "        vertical-align: middle;\n",
       "    }\n",
       "\n",
       "    .dataframe tbody tr th {\n",
       "        vertical-align: top;\n",
       "    }\n",
       "\n",
       "    .dataframe thead th {\n",
       "        text-align: right;\n",
       "    }\n",
       "</style>\n",
       "<table border=\"1\" class=\"dataframe\">\n",
       "  <thead>\n",
       "    <tr style=\"text-align: right;\">\n",
       "      <th></th>\n",
       "      <th>Happiness Rank</th>\n",
       "      <th>Happiness Score</th>\n",
       "      <th>Economy (GDP per Capita)</th>\n",
       "      <th>Family</th>\n",
       "      <th>Health (Life Expectancy)</th>\n",
       "      <th>Freedom</th>\n",
       "      <th>Trust (Government Corruption)</th>\n",
       "    </tr>\n",
       "    <tr>\n",
       "      <th>Region</th>\n",
       "      <th></th>\n",
       "      <th></th>\n",
       "      <th></th>\n",
       "      <th></th>\n",
       "      <th></th>\n",
       "      <th></th>\n",
       "      <th></th>\n",
       "    </tr>\n",
       "  </thead>\n",
       "  <tbody>\n",
       "    <tr>\n",
       "      <th>Australia and New Zealand</th>\n",
       "      <td>8.500000</td>\n",
       "      <td>7.323500</td>\n",
       "      <td>1.402545</td>\n",
       "      <td>1.138770</td>\n",
       "      <td>0.841080</td>\n",
       "      <td>0.574920</td>\n",
       "      <td>0.371175</td>\n",
       "    </tr>\n",
       "    <tr>\n",
       "      <th>Central and Eastern Europe</th>\n",
       "      <td>78.448276</td>\n",
       "      <td>5.370690</td>\n",
       "      <td>1.047537</td>\n",
       "      <td>0.861855</td>\n",
       "      <td>0.631592</td>\n",
       "      <td>0.300528</td>\n",
       "      <td>0.088072</td>\n",
       "    </tr>\n",
       "    <tr>\n",
       "      <th>Eastern Asia</th>\n",
       "      <td>67.166667</td>\n",
       "      <td>5.624167</td>\n",
       "      <td>1.277312</td>\n",
       "      <td>0.910428</td>\n",
       "      <td>0.806680</td>\n",
       "      <td>0.387282</td>\n",
       "      <td>0.118347</td>\n",
       "    </tr>\n",
       "    <tr>\n",
       "      <th>Latin America and Caribbean</th>\n",
       "      <td>48.333333</td>\n",
       "      <td>6.101750</td>\n",
       "      <td>0.993410</td>\n",
       "      <td>0.898432</td>\n",
       "      <td>0.612703</td>\n",
       "      <td>0.426646</td>\n",
       "      <td>0.106016</td>\n",
       "    </tr>\n",
       "    <tr>\n",
       "      <th>Middle East and Northern Africa</th>\n",
       "      <td>78.105263</td>\n",
       "      <td>5.386053</td>\n",
       "      <td>1.139323</td>\n",
       "      <td>0.695644</td>\n",
       "      <td>0.616438</td>\n",
       "      <td>0.309769</td>\n",
       "      <td>0.161526</td>\n",
       "    </tr>\n",
       "    <tr>\n",
       "      <th>North America</th>\n",
       "      <td>9.500000</td>\n",
       "      <td>7.254000</td>\n",
       "      <td>1.474055</td>\n",
       "      <td>1.071960</td>\n",
       "      <td>0.803300</td>\n",
       "      <td>0.527665</td>\n",
       "      <td>0.230985</td>\n",
       "    </tr>\n",
       "    <tr>\n",
       "      <th>Southeastern Asia</th>\n",
       "      <td>80.000000</td>\n",
       "      <td>5.338889</td>\n",
       "      <td>0.896381</td>\n",
       "      <td>0.791756</td>\n",
       "      <td>0.561369</td>\n",
       "      <td>0.490123</td>\n",
       "      <td>0.148104</td>\n",
       "    </tr>\n",
       "    <tr>\n",
       "      <th>Southern Asia</th>\n",
       "      <td>111.714286</td>\n",
       "      <td>4.563286</td>\n",
       "      <td>0.660671</td>\n",
       "      <td>0.480694</td>\n",
       "      <td>0.453670</td>\n",
       "      <td>0.350026</td>\n",
       "      <td>0.104899</td>\n",
       "    </tr>\n",
       "    <tr>\n",
       "      <th>Sub-Saharan Africa</th>\n",
       "      <td>129.657895</td>\n",
       "      <td>4.136421</td>\n",
       "      <td>0.474321</td>\n",
       "      <td>0.593656</td>\n",
       "      <td>0.239872</td>\n",
       "      <td>0.315424</td>\n",
       "      <td>0.120379</td>\n",
       "    </tr>\n",
       "    <tr>\n",
       "      <th>Western Europe</th>\n",
       "      <td>29.190476</td>\n",
       "      <td>6.685667</td>\n",
       "      <td>1.417056</td>\n",
       "      <td>1.042452</td>\n",
       "      <td>0.825754</td>\n",
       "      <td>0.477587</td>\n",
       "      <td>0.232544</td>\n",
       "    </tr>\n",
       "  </tbody>\n",
       "</table>\n",
       "</div>"
      ],
      "text/plain": [
       "                                 Happiness Rank  Happiness Score  \\\n",
       "Region                                                             \n",
       "Australia and New Zealand              8.500000         7.323500   \n",
       "Central and Eastern Europe            78.448276         5.370690   \n",
       "Eastern Asia                          67.166667         5.624167   \n",
       "Latin America and Caribbean           48.333333         6.101750   \n",
       "Middle East and Northern Africa       78.105263         5.386053   \n",
       "North America                          9.500000         7.254000   \n",
       "Southeastern Asia                     80.000000         5.338889   \n",
       "Southern Asia                        111.714286         4.563286   \n",
       "Sub-Saharan Africa                   129.657895         4.136421   \n",
       "Western Europe                        29.190476         6.685667   \n",
       "\n",
       "                                 Economy (GDP per Capita)    Family  \\\n",
       "Region                                                                \n",
       "Australia and New Zealand                        1.402545  1.138770   \n",
       "Central and Eastern Europe                       1.047537  0.861855   \n",
       "Eastern Asia                                     1.277312  0.910428   \n",
       "Latin America and Caribbean                      0.993410  0.898432   \n",
       "Middle East and Northern Africa                  1.139323  0.695644   \n",
       "North America                                    1.474055  1.071960   \n",
       "Southeastern Asia                                0.896381  0.791756   \n",
       "Southern Asia                                    0.660671  0.480694   \n",
       "Sub-Saharan Africa                               0.474321  0.593656   \n",
       "Western Europe                                   1.417056  1.042452   \n",
       "\n",
       "                                 Health (Life Expectancy)   Freedom  \\\n",
       "Region                                                                \n",
       "Australia and New Zealand                        0.841080  0.574920   \n",
       "Central and Eastern Europe                       0.631592  0.300528   \n",
       "Eastern Asia                                     0.806680  0.387282   \n",
       "Latin America and Caribbean                      0.612703  0.426646   \n",
       "Middle East and Northern Africa                  0.616438  0.309769   \n",
       "North America                                    0.803300  0.527665   \n",
       "Southeastern Asia                                0.561369  0.490123   \n",
       "Southern Asia                                    0.453670  0.350026   \n",
       "Sub-Saharan Africa                               0.239872  0.315424   \n",
       "Western Europe                                   0.825754  0.477587   \n",
       "\n",
       "                                 Trust (Government Corruption)  \n",
       "Region                                                          \n",
       "Australia and New Zealand                             0.371175  \n",
       "Central and Eastern Europe                            0.088072  \n",
       "Eastern Asia                                          0.118347  \n",
       "Latin America and Caribbean                           0.106016  \n",
       "Middle East and Northern Africa                       0.161526  \n",
       "North America                                         0.230985  \n",
       "Southeastern Asia                                     0.148104  \n",
       "Southern Asia                                         0.104899  \n",
       "Sub-Saharan Africa                                    0.120379  \n",
       "Western Europe                                        0.232544  "
      ]
     },
     "execution_count": 86,
     "metadata": {},
     "output_type": "execute_result"
    }
   ],
   "source": [
    "dynamics_by_Region = df[['Happiness Rank', 'Happiness Score', 'Economy (GDP per Capita)', 'Family', 'Health (Life Expectancy)', 'Freedom', 'Trust (Government Corruption)','Region']] \\\n",
    "    .groupby('Region').mean()\n",
    "dynamics_by_Region"
   ]
  },
  {
   "cell_type": "code",
   "execution_count": 87,
   "metadata": {},
   "outputs": [
    {
     "data": {
      "text/plain": [
       "<AxesSubplot:title={'center':'Happiness by Region'}, xlabel='Region', ylabel='Happiness Score'>"
      ]
     },
     "execution_count": 87,
     "metadata": {},
     "output_type": "execute_result"
    },
    {
     "data": {
      "image/png": "[encoded data removed]",
      "text/plain": [
       "<Figure size 864x576 with 1 Axes>"
      ]
     },
     "metadata": {
      "needs_background": "light"
     },
     "output_type": "display_data"
    }
   ],
   "source": [
    "Happiness_by_Region = df[['Region', 'Happiness Score']].groupby('Region').mean()\n",
    "#построим график \"самых счастливых регионов\"\n",
    "Happiness_by_Region.plot(kind='bar', \n",
    "                   title='Happiness by Region',\n",
    "                   xlabel='Region',\n",
    "                   ylabel='Happiness Score',\n",
    "                   figsize=(12,8)\n",
    "                    )"
   ]
  },
  {
   "cell_type": "code",
   "execution_count": 88,
   "metadata": {},
   "outputs": [],
   "source": [
    "#можно сделать вывод о том, что наиболее счастливой жизнью живут люди в 3 регионах: Австралия и Нвая Зеландия, Северная Америка\n",
    "# и Западная Европа."
   ]
  },
  {
   "cell_type": "code",
   "execution_count": 89,
   "metadata": {},
   "outputs": [
    {
     "data": {
      "text/plain": [
       "<AxesSubplot:title={'center':'GDP per Capita by region'}, xlabel='Region', ylabel='Happiness Score'>"
      ]
     },
     "execution_count": 89,
     "metadata": {},
     "output_type": "execute_result"
    },
    {
     "data": {
      "image/png": "[encoded data removed]",
      "text/plain": [
       "<Figure size 864x576 with 1 Axes>"
      ]
     },
     "metadata": {
      "needs_background": "light"
     },
     "output_type": "display_data"
    }
   ],
   "source": [
    "#Построим такой же график и посмотрим как распределились страны, исходя из ВВП на душу населения.\n",
    "GDP_per_Capita_by_region = df[['Region', 'Economy (GDP per Capita)']].groupby('Region').mean()\n",
    "GDP_per_Capita_by_region.plot(kind='bar', \n",
    "                   title='GDP per Capita by region',\n",
    "                   xlabel='Region',\n",
    "                   ylabel='Happiness Score',\n",
    "                   figsize=(12,8)\n",
    "                   )"
   ]
  },
  {
   "cell_type": "code",
   "execution_count": 90,
   "metadata": {},
   "outputs": [],
   "source": [
    "#График идентичен предыдущему, что позводяет выдвинуть предпоожение о том, что наиболее счастливо люди живут в регионах,\n",
    "# с развитй экономикой."
   ]
  },
  {
   "cell_type": "code",
   "execution_count": 91,
   "metadata": {},
   "outputs": [
    {
     "data": {
      "text/plain": [
       "<AxesSubplot:title={'center':'Happiest countries (top-10)'}, xlabel='Country'>"
      ]
     },
     "execution_count": 91,
     "metadata": {},
     "output_type": "execute_result"
    },
    {
     "data": {
      "image/png": "[encoded data removed]",
      "text/plain": [
       "<Figure size 864x576 with 1 Axes>"
      ]
     },
     "metadata": {
      "needs_background": "light"
     },
     "output_type": "display_data"
    }
   ],
   "source": [
    "#Построим график топ-10 самых счастливых стран\n",
    "Happiest_countries = df[['Country', 'Happiness Rank']].sort_values(by=['Happiness Rank'],ascending=True).head(10)\n",
    "Happiest_countries.plot(kind='bar', \n",
    "                          title='Happiest countries (top-10)',\n",
    "                          x='Country',\n",
    "                          y='Happiness Rank',\n",
    "                          figsize=(12,8)\n",
    "                       )\n"
   ]
  },
  {
   "cell_type": "code",
   "execution_count": 92,
   "metadata": {},
   "outputs": [
    {
     "data": {
      "text/plain": [
       "<AxesSubplot:title={'center':'Economy (GDP per Capita)'}, ylabel='Region'>"
      ]
     },
     "execution_count": 92,
     "metadata": {},
     "output_type": "execute_result"
    },
    {
     "data": {
      "image/png": "[encoded data removed]",
      "text/plain": [
       "<Figure size 864x576 with 1 Axes>"
      ]
     },
     "metadata": {
      "needs_background": "light"
     },
     "output_type": "display_data"
    }
   ],
   "source": [
    "np.exp(df.groupby('Region')['Economy (GDP per Capita)']\\\n",
    "       .mean()).sort_values().plot(\n",
    "    kind='barh',\n",
    "    title = 'Economy (GDP per Capita)',\n",
    "    figsize=(12,8)\n",
    ")"
   ]
  },
  {
   "cell_type": "code",
   "execution_count": 93,
   "metadata": {},
   "outputs": [],
   "source": [
    "#Средний ВВП на душу населения с разбивкой по регионам. Лидерство Северной Америки и Западной Европы."
   ]
  },
  {
   "cell_type": "code",
   "execution_count": 94,
   "metadata": {},
   "outputs": [
    {
     "data": {
      "text/plain": [
       "<AxesSubplot:title={'center':'Correlation between Happiness Score and Family'}, xlabel='Happiness Score', ylabel='Family'>"
      ]
     },
     "execution_count": 94,
     "metadata": {},
     "output_type": "execute_result"
    },
    {
     "data": {
      "image/png": "[encoded data removed]",
      "text/plain": [
       "<Figure size 864x576 with 1 Axes>"
      ]
     },
     "metadata": {
      "needs_background": "light"
     },
     "output_type": "display_data"
    }
   ],
   "source": [
    "df[['Happiness Score','Family']].plot(\n",
    "    kind='scatter',\n",
    "    x='Happiness Score',\n",
    "    y='Family',\n",
    "    title = 'Correlation between Happiness Score and Family',\n",
    "    figsize=(12,8)\n",
    ")"
   ]
  },
  {
   "cell_type": "code",
   "execution_count": 95,
   "metadata": {},
   "outputs": [],
   "source": [
    "# Диаграмма рассеяния рейтинга счастья (ось х) \n",
    "# и влияния показателя \"Семья\" (ось у) демонстрирует сильную корреляцию между этими данными."
   ]
  },
  {
   "cell_type": "code",
   "execution_count": 96,
   "metadata": {},
   "outputs": [
    {
     "data": {
      "text/plain": [
       "<AxesSubplot:title={'center':'Happiness Score'}>"
      ]
     },
     "execution_count": 96,
     "metadata": {},
     "output_type": "execute_result"
    },
    {
     "data": {
      "image/png": "[encoded data removed]",
      "text/plain": [
       "<Figure size 864x576 with 1 Axes>"
      ]
     },
     "metadata": {
      "needs_background": "light"
     },
     "output_type": "display_data"
    }
   ],
   "source": [
    "df['Happiness Score'].plot(\n",
    "    kind='box',\n",
    "    figsize=(12,8),\n",
    "    title = 'Happiness Score',\n",
    "    grid=True\n",
    ")"
   ]
  },
  {
   "cell_type": "code",
   "execution_count": 97,
   "metadata": {},
   "outputs": [],
   "source": [
    "#Распределение параметра Happiness Score показывает, что медианное значение «счастья» находится где-то в районе 5.5, \n",
    "#и варьируется от 3 до 8."
   ]
  },
  {
   "cell_type": "code",
   "execution_count": 129,
   "metadata": {},
   "outputs": [
    {
     "data": {
      "text/plain": [
       "<AxesSubplot:title={'center':'Top 5 countries with the highest Generosity score'}, ylabel='Generosity'>"
      ]
     },
     "execution_count": 129,
     "metadata": {},
     "output_type": "execute_result"
    },
    {
     "data": {
      "image/png": "[encoded data removed]",
      "text/plain": [
       "<Figure size 864x576 with 1 Axes>"
      ]
     },
     "metadata": {},
     "output_type": "display_data"
    }
   ],
   "source": [
    "df[['Generosity','Country']].sort_values(by=['Generosity'],ascending=False).head(5).plot(\n",
    "    kind='pie' ,\n",
    "    figsize=(12,8),\n",
    "    y = 'Generosity',\n",
    "    xlabel = 'Country',\n",
    "    autopct='%1.2f',\n",
    "    title  = 'Top 5 countries with the highest Generosity score'\n",
    ")\n"
   ]
  },
  {
   "cell_type": "code",
   "execution_count": 114,
   "metadata": {},
   "outputs": [
    {
     "data": {
      "text/html": [
       "<div>\n",
       "<style scoped>\n",
       "    .dataframe tbody tr th:only-of-type {\n",
       "        vertical-align: middle;\n",
       "    }\n",
       "\n",
       "    .dataframe tbody tr th {\n",
       "        vertical-align: top;\n",
       "    }\n",
       "\n",
       "    .dataframe thead th {\n",
       "        text-align: right;\n",
       "    }\n",
       "</style>\n",
       "<table border=\"1\" class=\"dataframe\">\n",
       "  <thead>\n",
       "    <tr style=\"text-align: right;\">\n",
       "      <th></th>\n",
       "      <th>Country</th>\n",
       "      <th>Generosity</th>\n",
       "    </tr>\n",
       "  </thead>\n",
       "  <tbody>\n",
       "    <tr>\n",
       "      <th>118</th>\n",
       "      <td>Myanmar</td>\n",
       "      <td>0.81971</td>\n",
       "    </tr>\n",
       "    <tr>\n",
       "      <th>32</th>\n",
       "      <td>Thailand</td>\n",
       "      <td>0.58696</td>\n",
       "    </tr>\n",
       "    <tr>\n",
       "      <th>78</th>\n",
       "      <td>Indonesia</td>\n",
       "      <td>0.56521</td>\n",
       "    </tr>\n",
       "    <tr>\n",
       "      <th>29</th>\n",
       "      <td>Malta</td>\n",
       "      <td>0.56237</td>\n",
       "    </tr>\n",
       "    <tr>\n",
       "      <th>96</th>\n",
       "      <td>Somaliland Region</td>\n",
       "      <td>0.51479</td>\n",
       "    </tr>\n",
       "  </tbody>\n",
       "</table>\n",
       "</div>"
      ],
      "text/plain": [
       "               Country  Generosity\n",
       "118            Myanmar     0.81971\n",
       "32            Thailand     0.58696\n",
       "78           Indonesia     0.56521\n",
       "29               Malta     0.56237\n",
       "96   Somaliland Region     0.51479"
      ]
     },
     "execution_count": 114,
     "metadata": {},
     "output_type": "execute_result"
    }
   ],
   "source": [
    "df[['Country', 'Generosity']].sort_values(by=['Generosity'],ascending=False).head(5)"
   ]
  },
  {
   "cell_type": "code",
   "execution_count": null,
   "metadata": {},
   "outputs": [],
   "source": []
  }
 ],
 "metadata": {
  "kernelspec": {
   "display_name": "Python 3",
   "language": "python",
   "name": "python3"
  },
  "language_info": {
   "codemirror_mode": {
    "name": "ipython",
    "version": 3
   },
   "file_extension": ".py",
   "mimetype": "text/x-python",
   "name": "python",
   "nbconvert_exporter": "python",
   "pygments_lexer": "ipython3",
   "version": "3.8.5"
  }
 },
 "nbformat": 4,
 "nbformat_minor": 4
}
