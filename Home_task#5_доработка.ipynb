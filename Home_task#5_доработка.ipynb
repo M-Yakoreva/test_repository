{
 "cells": [
  {
   "cell_type": "code",
   "execution_count": 4,
   "metadata": {},
   "outputs": [],
   "source": [
    "import json"
   ]
  },
  {
   "cell_type": "code",
   "execution_count": 76,
   "metadata": {},
   "outputs": [
    {
     "ename": "TypeError",
     "evalue": "'type' object is not subscriptable",
     "output_type": "error",
     "traceback": [
      "\u001b[1;31m---------------------------------------------------------------------------\u001b[0m",
      "\u001b[1;31mTypeError\u001b[0m                                 Traceback (most recent call last)",
      "\u001b[1;32m<ipython-input-76-9fa9beb38e00>\u001b[0m in \u001b[0;36m<module>\u001b[1;34m\u001b[0m\n\u001b[0;32m     22\u001b[0m                           \u001b[1;32mcontinue\u001b[0m\u001b[1;33m\u001b[0m\u001b[1;33m\u001b[0m\u001b[0m\n\u001b[0;32m     23\u001b[0m                     \u001b[1;32melif\u001b[0m \u001b[0melem\u001b[0m\u001b[1;33m[\u001b[0m\u001b[1;36m0\u001b[0m\u001b[1;33m]\u001b[0m \u001b[1;32min\u001b[0m \u001b[0mpurchases\u001b[0m\u001b[1;33m:\u001b[0m\u001b[1;33m\u001b[0m\u001b[1;33m\u001b[0m\u001b[0m\n\u001b[1;32m---> 24\u001b[1;33m                         \u001b[0mmy_list\u001b[0m \u001b[1;33m=\u001b[0m \u001b[0melem\u001b[0m\u001b[1;33m.\u001b[0m\u001b[0mappend\u001b[0m\u001b[1;33m(\u001b[0m\u001b[0mlist\u001b[0m\u001b[1;33m[\u001b[0m\u001b[0mpurchases\u001b[0m\u001b[1;33m[\u001b[0m\u001b[0melem\u001b[0m\u001b[1;33m[\u001b[0m\u001b[1;36m0\u001b[0m\u001b[1;33m]\u001b[0m\u001b[1;33m]\u001b[0m\u001b[1;33m]\u001b[0m\u001b[1;33m)\u001b[0m\u001b[1;33m\u001b[0m\u001b[1;33m\u001b[0m\u001b[0m\n\u001b[0m\u001b[0;32m     25\u001b[0m                 \u001b[0mnew_list\u001b[0m\u001b[1;33m.\u001b[0m\u001b[0mwrite\u001b[0m\u001b[1;33m(\u001b[0m\u001b[1;33m(\u001b[0m\u001b[0mstr\u001b[0m\u001b[1;33m(\u001b[0m\u001b[0mmy_list\u001b[0m\u001b[1;33m)\u001b[0m\u001b[1;33m)\u001b[0m\u001b[1;33m+\u001b[0m \u001b[1;34m'\\n'\u001b[0m\u001b[1;33m)\u001b[0m\u001b[1;33m\u001b[0m\u001b[1;33m\u001b[0m\u001b[0m\n",
      "\u001b[1;31mTypeError\u001b[0m: 'type' object is not subscriptable"
     ]
    }
   ],
   "source": [
    "i = 0\n",
    "f = open ('C:\\\\Users\\\\Маргарита\\\\Desktop\\\\НЕТОЛОГИЯ\\\\Anaconda_Jupiter\\\\purchase_log.txt','r', encoding ='utf-8')\n",
    "with open('C:\\\\Users\\\\Маргарита\\\\Desktop\\\\НЕТОЛОГИЯ\\\\Anaconda_Jupiter\\\\purchases_log.txt','w', encoding ='utf-8') as purchases:\n",
    "    f.readline()\n",
    "purchases = {}\n",
    "key_items = []\n",
    "val_items = []\n",
    "my_list = []\n",
    "for line in f:\n",
    "    line = line.strip() \n",
    "    my_dict = json.loads(line)\n",
    "# добавляем значения словаря к отдельно созданным спискам ключей и значений\n",
    "    key_items.append(list(my_dict.values())[0])\n",
    "    val_items.append(list(my_dict.values())[1])\n",
    "# получаем новый словарь, состоящий из ключей в виде идентификаторов пользователей и значений в виде категорий\n",
    "purchases = dict(zip(key_items, val_items))\n",
    "with open('C:\\\\Users\\\\Маргарита\\\\Desktop\\\\НЕТОЛОГИЯ\\\\Anaconda_Jupiter\\\\visit_log.csv', 'r', encoding ='utf-8') as V:\n",
    "            with open('funnel.csv', 'w') as new_list:\n",
    "                for row in V:\n",
    "                    elem = row.strip().split(',') \n",
    "                    if elem[0] not in purchases:\n",
    "                          continue\n",
    "                    elif elem[0] in purchases:\n",
    "                        my_list = ','.join(elem.append(list[purchases[elem[0]]]))\n",
    "                new_list.write((str(my_list))+ '\\n') "
   ]
  }
 ],
 "metadata": {
  "kernelspec": {
   "display_name": "Python 3",
   "language": "python",
   "name": "python3"
  },
  "language_info": {
   "codemirror_mode": {
    "name": "ipython",
    "version": 3
   },
   "file_extension": ".py",
   "mimetype": "text/x-python",
   "name": "python",
   "nbconvert_exporter": "python",
   "pygments_lexer": "ipython3",
   "version": "3.8.5"
  }
 },
 "nbformat": 4,
 "nbformat_minor": 4
}
