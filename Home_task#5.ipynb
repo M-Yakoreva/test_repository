{
 "cells": [
  {
   "cell_type": "markdown",
   "metadata": {},
   "source": [
    "### ЗАДАНИЕ 1: Переведите содержимое файла purchase_log.txt в словарь purchases вида:\n",
    "{‘1840e0b9d4’: ‘Продукты’, …}\n",
    "### ЗАДАНИЕ 2: Для каждого user_id в файле visit_log.csv определите третий столбец с категорией покупки (если покупка была, сам файл visit_log.csv изменять не надо). Запишите в файл funnel.csv визиты из файла visit_log.csv, в которых были покупки с указанием категории."
   ]
  },
  {
   "cell_type": "code",
   "execution_count": 24,
   "metadata": {},
   "outputs": [],
   "source": [
    "import json"
   ]
  },
  {
   "cell_type": "code",
   "execution_count": 27,
   "metadata": {},
   "outputs": [
    {
     "ename": "TypeError",
     "evalue": "'dict' object is not callable",
     "output_type": "error",
     "traceback": [
      "\u001b[1;31m---------------------------------------------------------------------------\u001b[0m",
      "\u001b[1;31mTypeError\u001b[0m                                 Traceback (most recent call last)",
      "\u001b[1;32m<ipython-input-27-03dc540b7306>\u001b[0m in \u001b[0;36m<module>\u001b[1;34m\u001b[0m\n\u001b[0;32m     27\u001b[0m                           \u001b[1;32mcontinue\u001b[0m\u001b[1;33m\u001b[0m\u001b[1;33m\u001b[0m\u001b[0m\n\u001b[0;32m     28\u001b[0m                     \u001b[1;32melif\u001b[0m \u001b[0melem\u001b[0m\u001b[1;33m[\u001b[0m\u001b[1;36m0\u001b[0m\u001b[1;33m]\u001b[0m \u001b[1;32min\u001b[0m \u001b[0mpurchases\u001b[0m\u001b[1;33m:\u001b[0m\u001b[1;33m\u001b[0m\u001b[1;33m\u001b[0m\u001b[0m\n\u001b[1;32m---> 29\u001b[1;33m                          \u001b[0mmy_list\u001b[0m \u001b[1;33m=\u001b[0m \u001b[1;34m','\u001b[0m\u001b[1;33m.\u001b[0m\u001b[0mjoin\u001b[0m\u001b[1;33m(\u001b[0m\u001b[0melem\u001b[0m\u001b[1;33m.\u001b[0m\u001b[0mappend\u001b[0m\u001b[1;33m(\u001b[0m\u001b[0mlist\u001b[0m\u001b[1;33m(\u001b[0m\u001b[0mpurchases\u001b[0m\u001b[1;33m(\u001b[0m\u001b[0melem\u001b[0m\u001b[1;33m[\u001b[0m\u001b[1;36m0\u001b[0m\u001b[1;33m]\u001b[0m\u001b[1;33m)\u001b[0m\u001b[1;33m)\u001b[0m\u001b[1;33m)\u001b[0m\u001b[1;33m)\u001b[0m\u001b[1;33m\u001b[0m\u001b[1;33m\u001b[0m\u001b[0m\n\u001b[0m\u001b[0;32m     30\u001b[0m                     \u001b[0mnew_list\u001b[0m\u001b[1;33m.\u001b[0m\u001b[0mwrite\u001b[0m\u001b[1;33m(\u001b[0m\u001b[0mstr\u001b[0m\u001b[1;33m(\u001b[0m\u001b[0mmy_list\u001b[0m\u001b[1;33m)\u001b[0m \u001b[1;33m+\u001b[0m \u001b[1;34m'\\n'\u001b[0m\u001b[1;33m)\u001b[0m\u001b[1;33m\u001b[0m\u001b[1;33m\u001b[0m\u001b[0m\n",
      "\u001b[1;31mTypeError\u001b[0m: 'dict' object is not callable"
     ]
    }
   ],
   "source": [
    "i = 0\n",
    "with open('C:\\\\Users\\\\Маргарита\\\\Desktop\\\\НЕТОЛОГИЯ\\\\Anaconda_Jupiter\\\\purchase_log.txt','r', encoding ='utf-8') as f:\n",
    "     with open('C:\\\\Users\\\\Маргарита\\\\Desktop\\\\НЕТОЛОГИЯ\\\\Anaconda_Jupiter\\\\purchases_log.txt','w', encoding ='utf-8') as purchases:\n",
    "                content = f.readlines()\n",
    "                purchases = {}\n",
    "                key_items = []\n",
    "                val_items = []\n",
    "                my_list = []\n",
    "                for line in content:\n",
    "# удаляем перенос строки\n",
    "                    line = line.strip() \n",
    "                    my_dict = json.loads(line)\n",
    "# добавляем значения словаря к отдельно созданным спискам ключей и значений\n",
    "                    key_items.append(list(my_dict.values())[0])\n",
    "                    val_items.append(list(my_dict.values())[1])\n",
    "# получаем новый словарь, состоящий из ключей в виде идентификаторов пользователей и значений в виде категорий\n",
    "                    purchases = dict(zip(key_items, val_items))\n",
    "                    i +=1\n",
    "                    if i > 5:\n",
    "                        break             \n",
    "# проверяем есть ли в файле с визитами user_id из исходного списка\n",
    "with open('C:\\\\Users\\\\Маргарита\\\\Desktop\\\\НЕТОЛОГИЯ\\\\Anaconda_Jupiter\\\\visit_log.csv', 'r', encoding ='utf-8') as V:\n",
    "            with open('funnel.csv', 'w') as new_list:\n",
    "                for row in V:\n",
    "                    elem = row.strip().split(',') \n",
    "                    if elem[0] not in purchases:\n",
    "                          continue\n",
    "                    elif elem[0] in purchases:\n",
    "                         my_list = ','.join(elem.append(list(purchases(elem[0]))))\n",
    "                    new_list.write(str(my_list) + '\\n')"
   ]
  },
  {
   "cell_type": "code",
   "execution_count": null,
   "metadata": {},
   "outputs": [],
   "source": []
  }
 ],
 "metadata": {
  "kernelspec": {
   "display_name": "Python 3",
   "language": "python",
   "name": "python3"
  },
  "language_info": {
   "codemirror_mode": {
    "name": "ipython",
    "version": 3
   },
   "file_extension": ".py",
   "mimetype": "text/x-python",
   "name": "python",
   "nbconvert_exporter": "python",
   "pygments_lexer": "ipython3",
   "version": "3.8.5"
  }
 },
 "nbformat": 4,
 "nbformat_minor": 4
}
