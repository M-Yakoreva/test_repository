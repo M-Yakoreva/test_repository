{
 "cells": [
  {
   "cell_type": "markdown",
   "metadata": {},
   "source": [
    "### Задание1"
   ]
  },
  {
   "cell_type": "code",
   "execution_count": 2,
   "metadata": {},
   "outputs": [],
   "source": [
    "phrase_1 = 'Насколько проще было бы писать программы, если бы не заказчики'\n",
    "phrase_2 = '640Кб должно хватить для любых задач. Билл Гейтс (по легенде)'\n",
    "if phrase_1>phrase_2:\n",
    "     print('Фраза 1 длиннее фразы 2')\n",
    "else:\n",
    "     print('Фразы 1 меньше или равна по длине фразы 2')"
   ]
  },
  {
   "cell_type": "code",
   "execution_count": 3,
   "metadata": {},
   "outputs": [
    {
     "name": "stdout",
     "output_type": "stream",
     "text": [
      "Фраза 2 длиннее фразы 1\n"
     ]
    }
   ],
   "source": [
    "phrase_1 = '640Кб должно хватить для любых задач. Билл Гейтс (по легенде)'\n",
    "phrase_2 = 'Насколько проще было бы писать программы, если бы не заказчики'\n",
    "if phrase_2>phrase_1:\n",
    "    print('Фраза 2 длиннее фразы 1')\n",
    "else:\n",
    "     print('Фразы 2 меньше или равна по длине фразы 1')"
   ]
  },
  {
   "cell_type": "code",
   "execution_count": 4,
   "metadata": {},
   "outputs": [
    {
     "name": "stdout",
     "output_type": "stream",
     "text": [
      "Фразы равной длины\n"
     ]
    }
   ],
   "source": [
    "phrase_1 = 'Насколько проще было бы писать программы, если бы не заказчики'\n",
    "phrase_2 = 'Насколько проще было бы писать программы, если бы не заказчики'\n",
    "if phrase_1>phrase_2:\n",
    "     print('Фраза 1 длиннее фразы 2')\n",
    "elif phrase_2>phrase_1:\n",
    "    print('Фраза 2 длиннее фразы 1')\n",
    "else:\n",
    "    print('Фразы равной длины')"
   ]
  },
  {
   "cell_type": "markdown",
   "metadata": {},
   "source": [
    "### Задание 2"
   ]
  },
  {
   "cell_type": "code",
   "execution_count": 5,
   "metadata": {},
   "outputs": [
    {
     "name": "stdout",
     "output_type": "stream",
     "text": [
      "Високосный год\n"
     ]
    }
   ],
   "source": [
    "year = 2020\n",
    "if year % 100==0 or year % 400==0 or year % 4==0:\n",
    "    print('Високосный год')"
   ]
  },
  {
   "cell_type": "code",
   "execution_count": 6,
   "metadata": {},
   "outputs": [
    {
     "name": "stdout",
     "output_type": "stream",
     "text": [
      "Обычный год\n"
     ]
    }
   ],
   "source": [
    "year = 2020\n",
    "if year % 100!=0 or year % 400!=0 or year % 4!=0:\n",
    "    print('Обычный год')"
   ]
  },
  {
   "cell_type": "markdown",
   "metadata": {},
   "source": [
    "### Задание 3"
   ]
  },
  {
   "cell_type": "code",
   "execution_count": 10,
   "metadata": {},
   "outputs": [
    {
     "name": "stdout",
     "output_type": "stream",
     "text": [
      "Дева\n"
     ]
    }
   ],
   "source": [
    "day=30\n",
    "month='Август'\n",
    "if 21 <= day <= 31 and month == 'Март' \\\n",
    "       or 1 <= day <= 20 and month == 'Апрель':\n",
    "    print('Овен')\n",
    "elif 21 <= day <= 30 and month == 'Апрель' \\\n",
    "       or 1 <= day <= 21 and month == 'Май':\n",
    "    print('Телец')\n",
    "elif 22 <= day <= 31 and month == 'Май' \\\n",
    "       or 1 <= day <= 21 and month == 'Июнь':\n",
    "    print('Близнецы')\n",
    "elif 22 <= day <= 30 and month == 'Июнь' \\\n",
    "       or 1 <= day <= 22 and month == 'Июль':\n",
    "    print('Рак')\n",
    "elif 23 <= day <= 31 and month == 'Июль' \\\n",
    "       or 1 <= day <= 21 and month == 'Август':\n",
    "    print('Лев')\n",
    "elif 22 <= day <= 31 and month == 'Август' \\\n",
    "       or 1 <= day <= 23 and month == 'Сентябрь':\n",
    "    print('Дева')\n",
    "elif 24 <= day <= 30 and month == 'Сентябрь' \\\n",
    "       or 1 <= day <= 23 and month == 'Октябрь':\n",
    "    print('Весы')\n",
    "elif 24 <= day <= 31 and month == 'Октябрь' \\\n",
    "       or 1 <= day <= 22 and month == 'Ноябрь':\n",
    "    print('Скорпион')\n",
    "elif 23 <= day <= 30 and month == 'Ноябрь' \\\n",
    "       or 1 <= day <= 22 and month == 'Декабрь':\n",
    "    print('Стрелец')\n",
    "elif 23 <= day <= 31 and month == 'Декабрь' \\\n",
    "       or 1 <= day <= 20 and month == 'Январь':\n",
    "    print('Козерог')\n",
    "elif 21 <= day <= 31 and month == 'Январь' \\\n",
    "       or 1 <= day <= 19 and month == 'Февраль':\n",
    "    print('Водолей')\n",
    "elif 20 <= day <= 28 and month == 'Февраль' \\\n",
    "       or 1 <= day <= 20 and month == 'Март':\n",
    "    print('Рыбы')\n"
   ]
  },
  {
   "cell_type": "code",
   "execution_count": 12,
   "metadata": {},
   "outputs": [
    {
     "name": "stdout",
     "output_type": "stream",
     "text": [
      "Введите число:  29\n",
      "ВВедите месяц с заглавной буквы:  Октябрь\n",
      "Скорпион\n"
     ]
    }
   ],
   "source": [
    "day=int(input('Введите число:  '))\n",
    "month= input('ВВедите месяц с заглавной буквы:  ')\n",
    "if 21 <= day <= 31 and month == 'Март' \\\n",
    "       or 1 <= day <= 20 and month == 'Апрель':\n",
    "    print('Овен')\n",
    "elif 21 <= day <= 30 and month == 'Апрель' \\\n",
    "       or 1 <= day <= 21 and month == 'Май':\n",
    "    print('Телец')\n",
    "elif 22 <= day <= 31 and month == 'Май' \\\n",
    "       or 1 <= day <= 21 and month == 'Июнь':\n",
    "    print('Близнецы')\n",
    "elif 22 <= day <= 30 and month == 'Июнь' \\\n",
    "       or 1 <= day <= 22 and month == 'Июль':\n",
    "    print('Рак')\n",
    "elif 23 <= day <= 31 and month == 'Июль' \\\n",
    "       or 1 <= day <= 21 and month == 'Август':\n",
    "    print('Лев')\n",
    "elif 22 <= day <= 31 and month == 'Август' \\\n",
    "       or 1 <= day <= 23 and month == 'Сентябрь':\n",
    "    print('Дева')\n",
    "elif 24 <= day <= 30 and month == 'Сентябрь' \\\n",
    "       or 1 <= day <= 23 and month == 'Октябрь':\n",
    "    print('Весы')\n",
    "elif 24 <= day <= 31 and month == 'Октябрь' \\\n",
    "       or 1 <= day <= 22 and month == 'Ноябрь':\n",
    "    print('Скорпион')\n",
    "elif 23 <= day <= 30 and month == 'Ноябрь' \\\n",
    "       or 1 <= day <= 22 and month == 'Декабрь':\n",
    "    print('Стрелец')\n",
    "elif 23 <= day <= 31 and month == 'Декабрь' \\\n",
    "       or 1 <= day <= 20 and month == 'Январь':\n",
    "    print('Козерог')\n",
    "elif 21 <= day <= 31 and month == 'Январь' \\\n",
    "       or 1 <= day <= 19 and month == 'Февраль':\n",
    "    print('Водолей')\n",
    "elif 20 <= day <= 28 and month == 'Февраль' \\\n",
    "       or 1 <= day <= 20 and month == 'Март':\n",
    "    print('Рыбы')"
   ]
  },
  {
   "cell_type": "markdown",
   "metadata": {},
   "source": [
    "### Задание 4"
   ]
  },
  {
   "cell_type": "code",
   "execution_count": 27,
   "metadata": {},
   "outputs": [
    {
     "name": "stdout",
     "output_type": "stream",
     "text": [
      "Стандартная коробка №3\n"
     ]
    }
   ],
   "source": [
    "width = 15\n",
    "length = 50\n",
    "height = 15\n",
    "\n",
    "\n",
    "if width<15 and height<15 and length<15:\n",
    "      print('Коробка №1')\n",
    "elif width<50 and height<50 and length<50:\n",
    "      print('Коробка №2')\n",
    "elif  length > 200:\n",
    "      print('Ищите упаковку для лыж')\n",
    "else:\n",
    "      print('Стандартная коробка №3')\n",
    "    "
   ]
  },
  {
   "cell_type": "code",
   "execution_count": 26,
   "metadata": {},
   "outputs": [
    {
     "name": "stdout",
     "output_type": "stream",
     "text": [
      "Упаковка для лыж\n"
     ]
    }
   ],
   "source": [
    "width = 45\n",
    "length = 205\n",
    "height = 45\n",
    "\n",
    "if width<15 and height<15 and length<15:\n",
    "      print('Коробка №1')\n",
    "elif width<50 and height<50 and length<50:\n",
    "      print('Коробка №2')\n",
    "elif  length > 200:\n",
    "      print('Ищите упаковку для лыж')\n",
    "else:\n",
    "      print('Стандартная коробка №3')\n",
    "\n"
   ]
  },
  {
   "cell_type": "code",
   "execution_count": 28,
   "metadata": {},
   "outputs": [
    {
     "name": "stdout",
     "output_type": "stream",
     "text": [
      "Стандартная коробка №3\n"
     ]
    }
   ],
   "source": [
    "width = 15\n",
    "length = 50\n",
    "height = 15\n",
    "\n",
    "\n",
    "if width<15 and height<15 and length<15:\n",
    "      print('Коробка №1')\n",
    "elif width<50 and height<50 and length<50:\n",
    "      print('Коробка №2')\n",
    "else:\n",
    "      print('Стандартная коробка №3')\n",
    "    "
   ]
  },
  {
   "cell_type": "code",
   "execution_count": null,
   "metadata": {},
   "outputs": [],
   "source": []
  }
 ],
 "metadata": {
  "kernelspec": {
   "display_name": "Python 3",
   "language": "python",
   "name": "python3"
  },
  "language_info": {
   "codemirror_mode": {
    "name": "ipython",
    "version": 3
   },
   "file_extension": ".py",
   "mimetype": "text/x-python",
   "name": "python",
   "nbconvert_exporter": "python",
   "pygments_lexer": "ipython3",
   "version": "3.8.5"
  }
 },
 "nbformat": 4,
 "nbformat_minor": 4
}
