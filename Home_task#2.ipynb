{
 "cells": [
  {
   "cell_type": "markdown",
   "metadata": {},
   "source": [
    "### Задание 1"
   ]
  },
  {
   "cell_type": "code",
   "execution_count": 11,
   "metadata": {},
   "outputs": [
    {
     "name": "stdout",
     "output_type": "stream",
     "text": [
      "введите слово: test\n",
      "es\n"
     ]
    }
   ],
   "source": [
    "word = input('введите слово: ')\n",
    "a = len(word)\n",
    "b = a/2\n",
    "if len(word) % 2 == 0:\n",
    "    print(word[int(b)-1:int(b)+1])\n",
    "elif len(word) % 2 != 0:\n",
    "    print(word[int(b)])"
   ]
  },
  {
   "cell_type": "code",
   "execution_count": 12,
   "metadata": {},
   "outputs": [
    {
     "name": "stdout",
     "output_type": "stream",
     "text": [
      "введите слово: testing\n",
      "t\n"
     ]
    }
   ],
   "source": [
    "word = input('введите слово: ')\n",
    "a = len(word)\n",
    "b = a/2\n",
    "if len(word) % 2 == 0:\n",
    "    print(word[int(b)-1:int(b)+1])\n",
    "elif len(word) % 2 != 0:\n",
    "    print(word[int(b)])"
   ]
  },
  {
   "cell_type": "markdown",
   "metadata": {},
   "source": [
    "### Задание 2"
   ]
  },
  {
   "cell_type": "code",
   "execution_count": 15,
   "metadata": {},
   "outputs": [
    {
     "name": "stdout",
     "output_type": "stream",
     "text": [
      "введите число: 2\n",
      "введите число: 3\n",
      "введите число: 5\n",
      "введите число: 0\n",
      "10\n"
     ]
    }
   ],
   "source": [
    "x = int(input('введите число: '))\n",
    "sum = 0\n",
    "while x != 0:\n",
    "    sum = sum + x\n",
    "    x = int(input('введите число: '))\n",
    "print(sum)"
   ]
  },
  {
   "cell_type": "markdown",
   "metadata": {},
   "source": [
    "### Задание 3"
   ]
  },
  {
   "cell_type": "code",
   "execution_count": 17,
   "metadata": {},
   "outputs": [
    {
     "name": "stdout",
     "output_type": "stream",
     "text": [
      "Alex Emma\n",
      "Arthur Kate\n",
      "John Kira\n",
      "Peter Liza\n",
      "Richard Trisha\n"
     ]
    }
   ],
   "source": [
    "boys = ['Peter', 'Alex', 'John', 'Arthur', 'Richard']\n",
    "girls = ['Kate', 'Liza', 'Kira', 'Emma', 'Trisha']\n",
    "boys_1 = sorted(boys)\n",
    "girls_1 = sorted (girls)\n",
    "couple = zip (boys_1,girls_1)\n",
    "for pair in list(couple): \n",
    "    if len(boys) == len(girls):\n",
    "        print(pair[0],pair[1])\n",
    "    else:\n",
    "        print ('Внимание, кто-то может остаться без пары!')"
   ]
  },
  {
   "cell_type": "code",
   "execution_count": 18,
   "metadata": {},
   "outputs": [
    {
     "name": "stdout",
     "output_type": "stream",
     "text": [
      "Внимание, кто-то может остаться без пары!\n"
     ]
    }
   ],
   "source": [
    "boys = ['Peter', 'Alex', 'John', 'Arthur', 'Richard', 'Michael']\n",
    "girls = ['Kate', 'Liza', 'Kira', 'Emma', 'Trisha']\n",
    "boys_1 = sorted(boys)\n",
    "girls_1 = sorted (girls)\n",
    "couple = zip (boys_1,girls_1)\n",
    "for pair in list(couple): \n",
    "    if len(boys) == len(girls):\n",
    "        print(pair[0],pair[1])\n",
    "else: \n",
    "        print ('Внимание, кто-то может остаться без пары!')"
   ]
  },
  {
   "cell_type": "markdown",
   "metadata": {},
   "source": [
    "### Задание 4"
   ]
  },
  {
   "cell_type": "code",
   "execution_count": 6,
   "metadata": {},
   "outputs": [
    {
     "name": "stdout",
     "output_type": "stream",
     "text": [
      "Средняя температура в странах: \n",
      "Thailand : 23.9 C\n",
      "Germany : 13.8 C\n",
      "Russia : 3.7 C\n",
      "Poland : 12.0 C\n"
     ]
    }
   ],
   "source": [
    "countries_temperature = [\n",
    "    ['Thailand', [75.2, 77, 78.8, 73.4, 68, 75.2, 77]],\n",
    "    ['Germany', [57.2, 55.4, 59, 59, 53.6]],\n",
    "    ['Russia', [35.6, 37.4, 39.2, 41, 42.8, 39.2, 35.6]],\n",
    "    ['Poland', [50, 50, 53.6, 57.2, 55.4, 55.4]]\n",
    "]\n",
    "print('Средняя температура в странах: ')\n",
    "for letter in countries_temperature:\n",
    "    print(letter[0], ':', round((sum(letter[1]) / len(letter[1]) - 32) / 1.8, 1), 'C')"
   ]
  },
  {
   "cell_type": "code",
   "execution_count": null,
   "metadata": {},
   "outputs": [],
   "source": []
  }
 ],
 "metadata": {
  "kernelspec": {
   "display_name": "Python 3",
   "language": "python",
   "name": "python3"
  },
  "language_info": {
   "codemirror_mode": {
    "name": "ipython",
    "version": 3
   },
   "file_extension": ".py",
   "mimetype": "text/x-python",
   "name": "python",
   "nbconvert_exporter": "python",
   "pygments_lexer": "ipython3",
   "version": "3.8.5"
  }
 },
 "nbformat": 4,
 "nbformat_minor": 4
}
